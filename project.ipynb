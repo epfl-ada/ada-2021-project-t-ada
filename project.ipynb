{
 "cells": [
  {
   "cell_type": "markdown",
   "metadata": {},
   "source": [
    "# NOTEBOOK PROJECT ADA\n",
    "## MILESTONE 2"
   ]
  },
  {
   "cell_type": "markdown",
   "metadata": {},
   "source": [
    "#### Instruction for Notebook:\n",
    "Notebook containing initial analyses and data handling pipelines. We will grade the correctness, quality of code, and quality of textual descriptions."
   ]
  }
 ],
 "metadata": {
  "interpreter": {
   "hash": "fc48d667712369a438ca1d7aa31ee8412754a6b06b4eb9adb7fb3c9981ad12b6"
  },
  "kernelspec": {
   "display_name": "Python 3.8.11 64-bit ('ADA': conda)",
   "name": "python3"
  },
  "language_info": {
   "codemirror_mode": {
    "name": "ipython",
    "version": 3
   },
   "file_extension": ".py",
   "mimetype": "text/x-python",
   "name": "python",
   "nbconvert_exporter": "python",
   "pygments_lexer": "ipython3",
   "version": "3.8.11"
  },
  "orig_nbformat": 4
 },
 "nbformat": 4,
 "nbformat_minor": 2
}
